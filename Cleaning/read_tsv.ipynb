{
 "cells": [
  {
   "cell_type": "code",
   "execution_count": 1,
   "metadata": {},
   "outputs": [],
   "source": [
    "import pandas as pd\n",
    "df_title = pd.read_csv(\"soc-redditHyperlinks-title.tsv\", sep='\\t')\n",
    "df_body = pd.read_csv(\"soc-redditHyperlinks-body.tsv\", sep='\\t')"
   ]
  },
  {
   "cell_type": "code",
   "execution_count": 2,
   "metadata": {},
   "outputs": [],
   "source": [
    "columns = ['Number of characters', ' Number of characters without counting white space', ' Fraction of alphabetical characters', ' Fraction of digits', ' Fraction of uppercase characters', ' Fraction of white spaces', 'Fraction of special characters such as comma exclamation mark etc.', ' Number of words', ' Number of unique works', ' Number of long words (at least 6 characters)', ' Average word length', ' Number of unique stopwords', ' Fraction of stopwords', ' Number of sentences', ' Number of long sentences (at least 10 words)', ' Average number of characters per sentence', ' Average number of words per sentence', ' Automated readability index', ' Positive sentiment calculated by VADER', ' Negative sentiment calculated by VADER', ' Compound sentiment calculated by VADER', ' LIWC_Funct', ' LIWC_Pronoun', ' LIWC_Ppron', ' LIWC_I', ' LIWC_We', ' LIWC_You', ' LIWC_SheHe', ' LIWC_They', ' LIWC_Ipron', ' LIWC_Article', ' LIWC_Verbs', ' LIWC_AuxVb', ' LIWC_Past', ' LIWC_Present', ' LIWC_Future', ' LIWC_Adverbs', ' LIWC_Prep', ' LIWC_Conj', ' LIWC_Negate', ' LIWC_Quant', ' LIWC_Numbers', ' LIWC_Swear', ' LIWC_Social', ' LIWC_Family', ' LIWC_Friends', ' LIWC_Humans', ' LIWC_Affect', ' LIWC_Posemo', ' LIWC_Negemo', ' LIWC_Anx', ' LIWC_Anger ', 'LIWC_Sad', ' LIWC_CogMech', ' LIWC_Insight', ' LIWC_Cause', ' LIWC_Discrep', ' LIWC_Tentat', ' LIWC_Certain', ' LIWC_Inhib', ' LIWC_Incl', ' LIWC_Excl', ' LIWC_Percept', ' LIWC_See', ' LIWC_Hear ', 'LIWC_Feel', ' LIWC_Bio', ' LIWC_Body', ' LIWC_Health', ' LIWC_Sexual', ' LIWC_Ingest', ' LIWC_Relativ', ' LIWC_Motion', ' LIWC_Space', ' LIWC_Time', ' LIWC_Work', ' LIWC_Achiev', ' LIWC_Leisure', ' LIWC_Home', ' LIWC_Money', ' LIWC_Relig', ' LIWC_Death', ' LIWC_Assent', ' LIWC_Dissent', ' LIWC_Nonflu', ' LIWC_Filler']"
   ]
  },
  {
   "cell_type": "code",
   "execution_count": 3,
   "metadata": {},
   "outputs": [],
   "source": [
    "# Create a table with separate columns for each property of df_body\n",
    "df_body_1 = pd.DataFrame(df_body[\"PROPERTIES\"].str.split(',',86).tolist(),columns=columns)\n",
    "df_body_2 = df_body[['SOURCE_SUBREDDIT', 'TARGET_SUBREDDIT', 'POST_ID', 'TIMESTAMP', 'LINK_SENTIMENT']]\n",
    "df_body_3 = pd.concat([df_body_2, df_body_1], axis=1)"
   ]
  },
  {
   "cell_type": "code",
   "execution_count": null,
   "metadata": {},
   "outputs": [],
   "source": [
    "# Create a table with separate columns for each property of df_title\n",
    "df_title_1 = pd.DataFrame(df_title[\"PROPERTIES\"].str.split(',',86).tolist(),columns=columns)\n",
    "df_title_2 = df_title[['SOURCE_SUBREDDIT', 'TARGET_SUBREDDIT', 'POST_ID', 'TIMESTAMP', 'LINK_SENTIMENT']]\n",
    "df_title_3 = pd.concat([df_title_2, df_title_1], axis=1)"
   ]
  },
  {
   "cell_type": "code",
   "execution_count": null,
   "metadata": {},
   "outputs": [],
   "source": [
    "df_body_3.to_csv(\"Body_clean.csv\")\n",
    "df_title_3.to_csv(\"Title_clean.csv\")"
   ]
  },
  {
   "cell_type": "code",
   "execution_count": null,
   "metadata": {},
   "outputs": [],
   "source": [
    "df_body_3"
   ]
  },
  {
   "cell_type": "code",
   "execution_count": null,
   "metadata": {},
   "outputs": [],
   "source": [
    "df_title_3"
   ]
  }
 ],
 "metadata": {
  "kernelspec": {
   "display_name": "Python 3",
   "language": "python",
   "name": "python3"
  },
  "language_info": {
   "codemirror_mode": {
    "name": "ipython",
    "version": 3
   },
   "file_extension": ".py",
   "mimetype": "text/x-python",
   "name": "python",
   "nbconvert_exporter": "python",
   "pygments_lexer": "ipython3",
   "version": "3.7.4"
  }
 },
 "nbformat": 4,
 "nbformat_minor": 2
}
