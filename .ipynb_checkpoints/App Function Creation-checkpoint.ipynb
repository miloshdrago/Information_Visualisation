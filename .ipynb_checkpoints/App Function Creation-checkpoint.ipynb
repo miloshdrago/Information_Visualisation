{
 "cells": [
  {
   "cell_type": "code",
   "execution_count": 3,
   "metadata": {
    "ExecuteTime": {
     "end_time": "2020-02-27T13:20:02.861059Z",
     "start_time": "2020-02-27T13:20:00.206190Z"
    }
   },
   "outputs": [],
   "source": [
    "import numpy as np\n",
    "import pandas as pd\n",
    "import matplotlib.pyplot as plt\n",
    "import seaborn as sns\n",
    "import plotly.express as px\n",
    "import json\n",
    "import pickle\n",
    "\n",
    "%matplotlib inline"
   ]
  },
  {
   "cell_type": "code",
   "execution_count": 4,
   "metadata": {
    "ExecuteTime": {
     "end_time": "2020-02-27T13:20:12.855284Z",
     "start_time": "2020-02-27T13:20:02.863027Z"
    }
   },
   "outputs": [],
   "source": [
    "root_path = ''\n",
    "df_title = pd.read_csv(root_path + 'data/soc-redditHyperlinks-title.tsv', sep='\\t')\n",
    "df_body = pd.read_csv(root_path + 'data/soc-redditHyperlinks-body.tsv', sep='\\t')\n",
    "df_points = pd.read_csv(\"data/projections/perp_10_2500subs.csv\")\n",
    "df_all = pd.concat([df_title, df_body])\n",
    "\n",
    "all_subs = set()\n",
    "all_subs.update(df_points['sub'])\n",
    "\n",
    "df_all = df_all[df_all.SOURCE_SUBREDDIT.map(lambda x: x in all_subs) | df_all.TARGET_SUBREDDIT.map(lambda x: x in all_subs)]\n",
    "df_all.TIMESTAMP = pd.to_datetime(df_all.TIMESTAMP)\n",
    "\n",
    "df_source = df_all.set_index('SOURCE_SUBREDDIT')\n",
    "df_target = df_all.set_index('TARGET_SUBREDDIT')"
   ]
  },
  {
   "cell_type": "code",
   "execution_count": 5,
   "metadata": {
    "ExecuteTime": {
     "end_time": "2020-02-27T13:20:12.861254Z",
     "start_time": "2020-02-27T13:20:12.857256Z"
    }
   },
   "outputs": [],
   "source": [
    "def filter_dates(df, start, end):\n",
    "    return \n",
    "\n",
    "def filter_subs():\n",
    "    return"
   ]
  },
  {
   "cell_type": "markdown",
   "metadata": {},
   "source": [
    "Linked To:\n",
    "Linked From:\n",
    "\n",
    "Net Received Sentiment\n",
    "Net Sent Sentiment\n",
    "\n",
    "Daily To Net Sentiment:\n",
    "Daily Out Net Sentiment:"
   ]
  },
  {
   "cell_type": "code",
   "execution_count": 14,
   "metadata": {
    "ExecuteTime": {
     "end_time": "2020-02-27T13:34:15.088170Z",
     "start_time": "2020-02-27T13:34:15.084169Z"
    }
   },
   "outputs": [],
   "source": [
    "def link_counts(df):\n",
    "    mask = df.LINK_SENTIMENT == 1\n",
    "    positive = df[mask]\n",
    "    negative = df[~mask]\n",
    "    \n",
    "    return [positive.index.value_counts(), negative.index.value_counts()]"
   ]
  },
  {
   "cell_type": "code",
   "execution_count": 28,
   "metadata": {
    "ExecuteTime": {
     "end_time": "2020-02-27T13:48:35.052121Z",
     "start_time": "2020-02-27T13:48:35.046125Z"
    }
   },
   "outputs": [],
   "source": [
    "# def get_link_counts()\n",
    "def process_frame(df_points):\n",
    "    pcounts, ncounts = link_counts(df_target)\n",
    "    df_points['in_pos'] = df_points['sub'].map(lambda x: pcounts.get(x, 0))\n",
    "    df_points['in_neg'] = df_points['sub'].map(lambda x: ncounts.get(x, 0))\n",
    "\n",
    "    pcounts, ncounts = link_counts(df_source)\n",
    "    df_points['out_pos'] = df_points['sub'].map(lambda x: pcounts.get(x, 0))\n",
    "    df_points['out_neg'] = df_points['sub'].map(lambda x: ncounts.get(x, 0))"
   ]
  },
  {
   "cell_type": "code",
   "execution_count": 29,
   "metadata": {
    "ExecuteTime": {
     "end_time": "2020-02-27T13:48:35.369411Z",
     "start_time": "2020-02-27T13:48:35.366397Z"
    }
   },
   "outputs": [],
   "source": [
    "import multiprocessing as mp"
   ]
  },
  {
   "cell_type": "code",
   "execution_count": null,
   "metadata": {
    "ExecuteTime": {
     "start_time": "2020-02-27T13:48:35.792Z"
    }
   },
   "outputs": [],
   "source": [
    "cores = mp.cpu_count()\n",
    "pool = mp.Pool(cores)\n",
    "splits = np.array_split(df_points)\n",
    "\n",
    "f = pool.map(process_frame,splits)"
   ]
  },
  {
   "cell_type": "code",
   "execution_count": null,
   "metadata": {},
   "outputs": [],
   "source": []
  },
  {
   "cell_type": "code",
   "execution_count": null,
   "metadata": {
    "ExecuteTime": {
     "end_time": "2020-02-27T13:16:19.526249Z",
     "start_time": "2020-02-27T13:16:19.364350Z"
    }
   },
   "outputs": [],
   "source": [
    "df_source.loc['mmorpg']"
   ]
  },
  {
   "cell_type": "code",
   "execution_count": null,
   "metadata": {
    "ExecuteTime": {
     "end_time": "2020-02-27T13:09:24.749792Z",
     "start_time": "2020-02-27T13:09:24.475943Z"
    }
   },
   "outputs": [],
   "source": []
  },
  {
   "cell_type": "code",
   "execution_count": null,
   "metadata": {
    "ExecuteTime": {
     "end_time": "2020-02-27T13:09:15.297611Z",
     "start_time": "2020-02-27T13:09:15.278606Z"
    }
   },
   "outputs": [],
   "source": [
    "all_subs"
   ]
  },
  {
   "cell_type": "code",
   "execution_count": null,
   "metadata": {},
   "outputs": [],
   "source": []
  }
 ],
 "metadata": {
  "kernelspec": {
   "display_name": "Python 3",
   "language": "python",
   "name": "python3"
  },
  "language_info": {
   "codemirror_mode": {
    "name": "ipython",
    "version": 3
   },
   "file_extension": ".py",
   "mimetype": "text/x-python",
   "name": "python",
   "nbconvert_exporter": "python",
   "pygments_lexer": "ipython3",
   "version": "3.7.3"
  },
  "toc": {
   "base_numbering": 1,
   "nav_menu": {},
   "number_sections": true,
   "sideBar": true,
   "skip_h1_title": false,
   "title_cell": "Table of Contents",
   "title_sidebar": "Contents",
   "toc_cell": false,
   "toc_position": {},
   "toc_section_display": true,
   "toc_window_display": false
  }
 },
 "nbformat": 4,
 "nbformat_minor": 4
}
